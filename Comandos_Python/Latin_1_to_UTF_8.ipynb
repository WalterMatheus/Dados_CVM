{
 "cells": [
  {
   "cell_type": "code",
   "execution_count": null,
   "id": "0ee46b41",
   "metadata": {},
   "outputs": [],
   "source": [
    "import os\n",
    "import pandas as pd\n",
    "\n",
    "# Caminho da pasta onde estão os arquivos\n",
    "base_dir = r\"C:\\Users\\Windows 11\\Downloads\\Dataset_CVM\"\n",
    "\n",
    "# Lista dos nomes base dos arquivos\n",
    "arquivos = [\n",
    "    \"dfp_cia_aberta_DRE_con_2022\",\n",
    "    \"dfp_cia_aberta_BPA_con_2022\",\n",
    "    \"dfp_cia_aberta_BPP_con_2022\",\n",
    "    \"dfp_cia_aberta_DRE_con_2024\",\n",
    "    “dfp_cia_aberta_BPA_con_2024”,\n",
    "    \"dfp_cia_aberta_BPP_con_2024\",\n",
    "    \"dfp_cia_aberta_DRE_con_2020\",\n",
    "    \"dfp_cia_aberta_BPA_con_2020\",\n",
    "    \"dfp_cia_aberta_BPP_con_2020\"\n",
    "]\n",
    "\n",
    "for nome in arquivos:\n",
    "    input_file = os.path.join(base_dir, nome + \".csv\")\n",
    "    output_file = os.path.join(base_dir, nome + \"_utf8.csv\")\n",
    "\n",
    "    try:\n",
    "        # Lê o CSV com codificação Latin1 e delimitador ponto e vírgula\n",
    "        df = pd.read_csv(input_file, encoding=\"latin1\", sep=\";\")\n",
    "\n",
    "        #Normaliza nomes de colunas: remove espaços e acentos\n",
    "        df.columns = [col.strip().replace(\" \", \"_\").replace(\"ç\", \"c\").replace(\"ã\", \"a\").replace(\"á\", \"a\")\n",
    "                      .replace(\"é\", \"e\").replace(\"í\", \"i\").replace(\"ú\", \"u\").replace(\"ô\", \"o\")\n",
    "                      for col in df.columns]\n",
    "\n",
    "        # Exporta com codificação UTF-8 e delimitador padrão (vírgula)\n",
    "        df.to_csv(output_file, index=False, encoding=\"utf-8\")\n",
    "\n",
    "        print(f\"✅ Convertido: {nome}.csv → {nome}_utf8.csv\")\n",
    "\n",
    "    except FileNotFoundError:\n",
    "        print(f\"❌ Arquivo não encontrado: {input_file}\")\n",
    "    except Exception as e:\n",
    "        print(f\"⚠️ Erro ao processar {nome}: {e}\")\n"
   ]
  }
 ],
 "metadata": {
  "kernelspec": {
   "display_name": "Python 3 (ipykernel)",
   "language": "python",
   "name": "python3"
  },
  "language_info": {
   "codemirror_mode": {
    "name": "ipython",
    "version": 3
   },
   "file_extension": ".py",
   "mimetype": "text/x-python",
   "name": "python",
   "nbconvert_exporter": "python",
   "pygments_lexer": "ipython3",
   "version": "3.9.13"
  }
 },
 "nbformat": 4,
 "nbformat_minor": 5
}
